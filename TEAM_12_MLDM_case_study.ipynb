{
  "nbformat": 4,
  "nbformat_minor": 0,
  "metadata": {
    "colab": {
      "name": "TEAM_12_MLDM_case study.ipynb",
      "provenance": [],
      "collapsed_sections": [],
      "include_colab_link": true
    },
    "kernelspec": {
      "name": "python3",
      "display_name": "Python 3"
    }
  },
  "cells": [
    {
      "cell_type": "markdown",
      "metadata": {
        "id": "view-in-github",
        "colab_type": "text"
      },
      "source": [
        "<a href=\"https://colab.research.google.com/github/RASHMI1110/COLLABORATIVE-FILTERING--MUSIC-RECOMMENDATION-SYSTEM/blob/main/TEAM_12_MLDM_case_study.ipynb\" target=\"_parent\"><img src=\"https://colab.research.google.com/assets/colab-badge.svg\" alt=\"Open In Colab\"/></a>"
      ]
    },
    {
      "cell_type": "code",
      "metadata": {
        "id": "p1u9DfvHrWUT"
      },
      "source": [
        "import pandas as pd\n",
        "import numpy as np\n",
        "import matplotlib.pyplot as plt\n",
        "import seaborn as sns"
      ],
      "execution_count": null,
      "outputs": []
    },
    {
      "cell_type": "code",
      "metadata": {
        "id": "YhSSRGy6rxba"
      },
      "source": [
        "from scipy.sparse import csr_matrix"
      ],
      "execution_count": null,
      "outputs": []
    },
    {
      "cell_type": "code",
      "metadata": {
        "id": "JcxEU08Hr184"
      },
      "source": [
        "#Read userid-songid-listen_count\n",
        "song_info = pd.read_csv('https://static.turi.com/datasets/millionsong/10000.txt',sep='\\t',header=None)\n",
        "song_info.columns = ['user_id', 'song_id', 'listen_count']\n",
        "\n",
        "#Read song  metadata\n",
        "song_actual =  pd.read_csv('https://static.turi.com/datasets/millionsong/song_data.csv')\n",
        "song_actual.drop_duplicates(['song_id'], inplace=True)\n",
        "\n",
        "#Merge the two dataframes above to create input dataframe for recommender systems\n",
        "songs = pd.merge(song_info, song_actual, on=\"song_id\", how=\"left\")"
      ],
      "execution_count": null,
      "outputs": []
    },
    {
      "cell_type": "code",
      "metadata": {
        "id": "jjS0nRbKr5LX"
      },
      "source": [
        "songs.to_csv('songs.csv', index=False)"
      ],
      "execution_count": null,
      "outputs": []
    },
    {
      "cell_type": "code",
      "metadata": {
        "id": "nwaqedMMsAOh",
        "outputId": "120bd3f5-15db-4c1f-c92a-17ba80ca4cf3",
        "colab": {
          "base_uri": "https://localhost:8080/"
        }
      },
      "source": [
        "songs.isnull().sum().sum()"
      ],
      "execution_count": null,
      "outputs": [
        {
          "output_type": "execute_result",
          "data": {
            "text/plain": [
              "0"
            ]
          },
          "metadata": {
            "tags": []
          },
          "execution_count": 12
        }
      ]
    },
    {
      "cell_type": "code",
      "metadata": {
        "id": "GbiU9095swYc",
        "outputId": "28e2cac3-ec0c-45a8-c1cb-8d8b8ff8ec2f",
        "colab": {
          "base_uri": "https://localhost:8080/",
          "height": 204
        }
      },
      "source": [
        "songs.head()"
      ],
      "execution_count": null,
      "outputs": [
        {
          "output_type": "execute_result",
          "data": {
            "text/html": [
              "<div>\n",
              "<style scoped>\n",
              "    .dataframe tbody tr th:only-of-type {\n",
              "        vertical-align: middle;\n",
              "    }\n",
              "\n",
              "    .dataframe tbody tr th {\n",
              "        vertical-align: top;\n",
              "    }\n",
              "\n",
              "    .dataframe thead th {\n",
              "        text-align: right;\n",
              "    }\n",
              "</style>\n",
              "<table border=\"1\" class=\"dataframe\">\n",
              "  <thead>\n",
              "    <tr style=\"text-align: right;\">\n",
              "      <th></th>\n",
              "      <th>user_id</th>\n",
              "      <th>song_id</th>\n",
              "      <th>listen_count</th>\n",
              "      <th>title</th>\n",
              "      <th>release</th>\n",
              "      <th>artist_name</th>\n",
              "      <th>year</th>\n",
              "    </tr>\n",
              "  </thead>\n",
              "  <tbody>\n",
              "    <tr>\n",
              "      <th>0</th>\n",
              "      <td>b80344d063b5ccb3212f76538f3d9e43d87dca9e</td>\n",
              "      <td>SOAKIMP12A8C130995</td>\n",
              "      <td>1</td>\n",
              "      <td>The Cove</td>\n",
              "      <td>Thicker Than Water</td>\n",
              "      <td>Jack Johnson</td>\n",
              "      <td>0</td>\n",
              "    </tr>\n",
              "    <tr>\n",
              "      <th>1</th>\n",
              "      <td>b80344d063b5ccb3212f76538f3d9e43d87dca9e</td>\n",
              "      <td>SOBBMDR12A8C13253B</td>\n",
              "      <td>2</td>\n",
              "      <td>Entre Dos Aguas</td>\n",
              "      <td>Flamenco Para Niños</td>\n",
              "      <td>Paco De Lucia</td>\n",
              "      <td>1976</td>\n",
              "    </tr>\n",
              "    <tr>\n",
              "      <th>2</th>\n",
              "      <td>b80344d063b5ccb3212f76538f3d9e43d87dca9e</td>\n",
              "      <td>SOBXHDL12A81C204C0</td>\n",
              "      <td>1</td>\n",
              "      <td>Stronger</td>\n",
              "      <td>Graduation</td>\n",
              "      <td>Kanye West</td>\n",
              "      <td>2007</td>\n",
              "    </tr>\n",
              "    <tr>\n",
              "      <th>3</th>\n",
              "      <td>b80344d063b5ccb3212f76538f3d9e43d87dca9e</td>\n",
              "      <td>SOBYHAJ12A6701BF1D</td>\n",
              "      <td>1</td>\n",
              "      <td>Constellations</td>\n",
              "      <td>In Between Dreams</td>\n",
              "      <td>Jack Johnson</td>\n",
              "      <td>2005</td>\n",
              "    </tr>\n",
              "    <tr>\n",
              "      <th>4</th>\n",
              "      <td>b80344d063b5ccb3212f76538f3d9e43d87dca9e</td>\n",
              "      <td>SODACBL12A8C13C273</td>\n",
              "      <td>1</td>\n",
              "      <td>Learn To Fly</td>\n",
              "      <td>There Is Nothing Left To Lose</td>\n",
              "      <td>Foo Fighters</td>\n",
              "      <td>1999</td>\n",
              "    </tr>\n",
              "  </tbody>\n",
              "</table>\n",
              "</div>"
            ],
            "text/plain": [
              "                                    user_id  ...  year\n",
              "0  b80344d063b5ccb3212f76538f3d9e43d87dca9e  ...     0\n",
              "1  b80344d063b5ccb3212f76538f3d9e43d87dca9e  ...  1976\n",
              "2  b80344d063b5ccb3212f76538f3d9e43d87dca9e  ...  2007\n",
              "3  b80344d063b5ccb3212f76538f3d9e43d87dca9e  ...  2005\n",
              "4  b80344d063b5ccb3212f76538f3d9e43d87dca9e  ...  1999\n",
              "\n",
              "[5 rows x 7 columns]"
            ]
          },
          "metadata": {
            "tags": []
          },
          "execution_count": 6
        }
      ]
    },
    {
      "cell_type": "code",
      "metadata": {
        "id": "b0pUEyE2s0Qz"
      },
      "source": [
        "df_songs = pd.read_csv('songs.csv')"
      ],
      "execution_count": null,
      "outputs": []
    },
    {
      "cell_type": "code",
      "metadata": {
        "id": "j9zUQ_RYtEBp",
        "outputId": "bb105b07-aee3-479d-9306-33060969fc0f",
        "colab": {
          "base_uri": "https://localhost:8080/"
        }
      },
      "source": [
        "#Unique songs\n",
        "unique_songs = df_songs['title'].unique().shape[0]\n",
        "print(f\"There are {unique_songs} unique songs in the dataset\")"
      ],
      "execution_count": null,
      "outputs": [
        {
          "output_type": "stream",
          "text": [
            "There are 9567 unique songs in the dataset\n"
          ],
          "name": "stdout"
        }
      ]
    },
    {
      "cell_type": "markdown",
      "metadata": {
        "id": "nyCWMcMkL_8O"
      },
      "source": [
        "# EDA"
      ]
    },
    {
      "cell_type": "code",
      "metadata": {
        "id": "IoX66X6ytPS0"
      },
      "source": [
        "import pandas as pd\n",
        "import seaborn as sns\n",
        "from matplotlib import pyplot as plt\n"
      ],
      "execution_count": null,
      "outputs": []
    },
    {
      "cell_type": "code",
      "metadata": {
        "id": "3hyUuOgetwLF"
      },
      "source": [
        "#count how many rows we have by song, we show only the ten more popular songs \n",
        "ten_pop_songs = df_songs.groupby('title')['listen_count'].count().reset_index().sort_values(['listen_count', 'title'], ascending = [0,1])\n",
        "ten_pop_songs['percentage']  = round(ten_pop_songs['listen_count'].div(ten_pop_songs['listen_count'].sum())*100, 2)"
      ],
      "execution_count": null,
      "outputs": []
    },
    {
      "cell_type": "code",
      "metadata": {
        "id": "LXDmbMZ4yF1d"
      },
      "source": [
        "ten_pop_songs = ten_pop_songs[:]"
      ],
      "execution_count": null,
      "outputs": []
    },
    {
      "cell_type": "code",
      "metadata": {
        "id": "DokmDH7jySXV",
        "outputId": "d0326333-e98c-4be4-846b-6ea516547fe2",
        "colab": {
          "base_uri": "https://localhost:8080/",
          "height": 402
        }
      },
      "source": [
        "ten_pop_songs "
      ],
      "execution_count": null,
      "outputs": [
        {
          "output_type": "execute_result",
          "data": {
            "text/html": [
              "<div>\n",
              "<style scoped>\n",
              "    .dataframe tbody tr th:only-of-type {\n",
              "        vertical-align: middle;\n",
              "    }\n",
              "\n",
              "    .dataframe tbody tr th {\n",
              "        vertical-align: top;\n",
              "    }\n",
              "\n",
              "    .dataframe thead th {\n",
              "        text-align: right;\n",
              "    }\n",
              "</style>\n",
              "<table border=\"1\" class=\"dataframe\">\n",
              "  <thead>\n",
              "    <tr style=\"text-align: right;\">\n",
              "      <th></th>\n",
              "      <th>title</th>\n",
              "      <th>listen_count</th>\n",
              "      <th>percentage</th>\n",
              "    </tr>\n",
              "  </thead>\n",
              "  <tbody>\n",
              "    <tr>\n",
              "      <th>6836</th>\n",
              "      <td>Sehr kosmisch</td>\n",
              "      <td>8277</td>\n",
              "      <td>0.41</td>\n",
              "    </tr>\n",
              "    <tr>\n",
              "      <th>8725</th>\n",
              "      <td>Undo</td>\n",
              "      <td>7032</td>\n",
              "      <td>0.35</td>\n",
              "    </tr>\n",
              "    <tr>\n",
              "      <th>1964</th>\n",
              "      <td>Dog Days Are Over (Radio Edit)</td>\n",
              "      <td>6949</td>\n",
              "      <td>0.35</td>\n",
              "    </tr>\n",
              "    <tr>\n",
              "      <th>9496</th>\n",
              "      <td>You're The One</td>\n",
              "      <td>6729</td>\n",
              "      <td>0.34</td>\n",
              "    </tr>\n",
              "    <tr>\n",
              "      <th>6498</th>\n",
              "      <td>Revelry</td>\n",
              "      <td>6145</td>\n",
              "      <td>0.31</td>\n",
              "    </tr>\n",
              "    <tr>\n",
              "      <th>...</th>\n",
              "      <td>...</td>\n",
              "      <td>...</td>\n",
              "      <td>...</td>\n",
              "    </tr>\n",
              "    <tr>\n",
              "      <th>3363</th>\n",
              "      <td>Historia Del Portero</td>\n",
              "      <td>51</td>\n",
              "      <td>0.00</td>\n",
              "    </tr>\n",
              "    <tr>\n",
              "      <th>6782</th>\n",
              "      <td>Scared</td>\n",
              "      <td>51</td>\n",
              "      <td>0.00</td>\n",
              "    </tr>\n",
              "    <tr>\n",
              "      <th>2041</th>\n",
              "      <td>Don´t Leave Me Now</td>\n",
              "      <td>50</td>\n",
              "      <td>0.00</td>\n",
              "    </tr>\n",
              "    <tr>\n",
              "      <th>2860</th>\n",
              "      <td>Ghosts (Toxic Avenger Mix)</td>\n",
              "      <td>48</td>\n",
              "      <td>0.00</td>\n",
              "    </tr>\n",
              "    <tr>\n",
              "      <th>5567</th>\n",
              "      <td>No Creo En El Jamas</td>\n",
              "      <td>48</td>\n",
              "      <td>0.00</td>\n",
              "    </tr>\n",
              "  </tbody>\n",
              "</table>\n",
              "<p>9567 rows × 3 columns</p>\n",
              "</div>"
            ],
            "text/plain": [
              "                               title  listen_count  percentage\n",
              "6836                   Sehr kosmisch          8277        0.41\n",
              "8725                            Undo          7032        0.35\n",
              "1964  Dog Days Are Over (Radio Edit)          6949        0.35\n",
              "9496                  You're The One          6729        0.34\n",
              "6498                         Revelry          6145        0.31\n",
              "...                              ...           ...         ...\n",
              "3363            Historia Del Portero            51        0.00\n",
              "6782                          Scared            51        0.00\n",
              "2041              Don´t Leave Me Now            50        0.00\n",
              "2860      Ghosts (Toxic Avenger Mix)            48        0.00\n",
              "5567             No Creo En El Jamas            48        0.00\n",
              "\n",
              "[9567 rows x 3 columns]"
            ]
          },
          "metadata": {
            "tags": []
          },
          "execution_count": 12
        }
      ]
    },
    {
      "cell_type": "code",
      "metadata": {
        "id": "-1kymSSKyst3"
      },
      "source": [
        "\n",
        "labels = ten_pop_songs['title'].tolist()\n",
        "counts = ten_pop_songs['listen_count'].tolist()"
      ],
      "execution_count": null,
      "outputs": []
    },
    {
      "cell_type": "code",
      "metadata": {
        "id": "N8l03orpzDcP"
      },
      "source": [
        "\n",
        "sns.barplot(x=counts, y=labels, palette='Set2')\n",
        "plt.xlabel('listen_count')\n",
        "plt.ylabel('song_title')"
      ],
      "execution_count": null,
      "outputs": []
    },
    {
      "cell_type": "code",
      "metadata": {
        "id": "gpmhE4Mpc3Vq"
      },
      "source": [
        ""
      ],
      "execution_count": null,
      "outputs": []
    },
    {
      "cell_type": "code",
      "metadata": {
        "id": "U3gnVMfpzPAi"
      },
      "source": [
        "#count how many rows we have by artist name, we show only the ten more popular artist \n",
        "ten_pop_artists  = df_songs.groupby(['artist_name'])['listen_count'].count().reset_index().sort_values(['listen_count', 'artist_name'], \n",
        "                                                                                                ascending = [0,1])"
      ],
      "execution_count": null,
      "outputs": []
    },
    {
      "cell_type": "code",
      "metadata": {
        "id": "yW7pGqGS21cu"
      },
      "source": [
        "\n",
        "#count how many rows we have by artist name, we show only the ten more popular artist \n",
        "ten_pop_artists  = df_songs.groupby(['artist_name'])['listen_count'].count().reset_index().sort_values(['listen_count', 'artist_name'], \n",
        "                                                                                                ascending = [0,1])"
      ],
      "execution_count": null,
      "outputs": []
    },
    {
      "cell_type": "code",
      "metadata": {
        "id": "OQk5fL9A_Xdb",
        "outputId": "ec918d39-dafb-49e2-b168-7330965d390e",
        "colab": {
          "base_uri": "https://localhost:8080/",
          "height": 514
        }
      },
      "source": [
        "ten_pop_artists = ten_pop_artists[:15]\n",
        "ten_pop_artists"
      ],
      "execution_count": null,
      "outputs": [
        {
          "output_type": "execute_result",
          "data": {
            "text/html": [
              "<div>\n",
              "<style scoped>\n",
              "    .dataframe tbody tr th:only-of-type {\n",
              "        vertical-align: middle;\n",
              "    }\n",
              "\n",
              "    .dataframe tbody tr th {\n",
              "        vertical-align: top;\n",
              "    }\n",
              "\n",
              "    .dataframe thead th {\n",
              "        text-align: right;\n",
              "    }\n",
              "</style>\n",
              "<table border=\"1\" class=\"dataframe\">\n",
              "  <thead>\n",
              "    <tr style=\"text-align: right;\">\n",
              "      <th></th>\n",
              "      <th>artist_name</th>\n",
              "      <th>listen_count</th>\n",
              "    </tr>\n",
              "  </thead>\n",
              "  <tbody>\n",
              "    <tr>\n",
              "      <th>649</th>\n",
              "      <td>Coldplay</td>\n",
              "      <td>29422</td>\n",
              "    </tr>\n",
              "    <tr>\n",
              "      <th>2850</th>\n",
              "      <td>The Black Keys</td>\n",
              "      <td>19862</td>\n",
              "    </tr>\n",
              "    <tr>\n",
              "      <th>1651</th>\n",
              "      <td>Kings Of Leon</td>\n",
              "      <td>18747</td>\n",
              "    </tr>\n",
              "    <tr>\n",
              "      <th>1107</th>\n",
              "      <td>Florence + The Machine</td>\n",
              "      <td>18112</td>\n",
              "    </tr>\n",
              "    <tr>\n",
              "      <th>1370</th>\n",
              "      <td>Jack Johnson</td>\n",
              "      <td>17801</td>\n",
              "    </tr>\n",
              "    <tr>\n",
              "      <th>2946</th>\n",
              "      <td>The Killers</td>\n",
              "      <td>16063</td>\n",
              "    </tr>\n",
              "    <tr>\n",
              "      <th>2374</th>\n",
              "      <td>Radiohead</td>\n",
              "      <td>14890</td>\n",
              "    </tr>\n",
              "    <tr>\n",
              "      <th>736</th>\n",
              "      <td>Daft Punk</td>\n",
              "      <td>14715</td>\n",
              "    </tr>\n",
              "    <tr>\n",
              "      <th>2073</th>\n",
              "      <td>Muse</td>\n",
              "      <td>14005</td>\n",
              "    </tr>\n",
              "    <tr>\n",
              "      <th>1554</th>\n",
              "      <td>Justin Bieber</td>\n",
              "      <td>13959</td>\n",
              "    </tr>\n",
              "    <tr>\n",
              "      <th>3174</th>\n",
              "      <td>Train</td>\n",
              "      <td>12535</td>\n",
              "    </tr>\n",
              "    <tr>\n",
              "      <th>978</th>\n",
              "      <td>Eminem</td>\n",
              "      <td>12138</td>\n",
              "    </tr>\n",
              "    <tr>\n",
              "      <th>1768</th>\n",
              "      <td>Linkin Park</td>\n",
              "      <td>11579</td>\n",
              "    </tr>\n",
              "    <tr>\n",
              "      <th>2205</th>\n",
              "      <td>OneRepublic</td>\n",
              "      <td>11476</td>\n",
              "    </tr>\n",
              "    <tr>\n",
              "      <th>1983</th>\n",
              "      <td>Metallica</td>\n",
              "      <td>11336</td>\n",
              "    </tr>\n",
              "  </tbody>\n",
              "</table>\n",
              "</div>"
            ],
            "text/plain": [
              "                 artist_name  listen_count\n",
              "649                 Coldplay         29422\n",
              "2850          The Black Keys         19862\n",
              "1651           Kings Of Leon         18747\n",
              "1107  Florence + The Machine         18112\n",
              "1370            Jack Johnson         17801\n",
              "2946             The Killers         16063\n",
              "2374               Radiohead         14890\n",
              "736                Daft Punk         14715\n",
              "2073                    Muse         14005\n",
              "1554           Justin Bieber         13959\n",
              "3174                   Train         12535\n",
              "978                   Eminem         12138\n",
              "1768             Linkin Park         11579\n",
              "2205             OneRepublic         11476\n",
              "1983               Metallica         11336"
            ]
          },
          "metadata": {
            "tags": []
          },
          "execution_count": 17
        }
      ]
    },
    {
      "cell_type": "code",
      "metadata": {
        "id": "QpJShCfB_hHF",
        "outputId": "8772d157-e6b3-497e-f854-acf446712b82",
        "colab": {
          "base_uri": "https://localhost:8080/",
          "height": 280
        }
      },
      "source": [
        "plt.figure()\n",
        "labels = ten_pop_artists['artist_name'].tolist()\n",
        "counts = ten_pop_artists['listen_count'].tolist()\n",
        "sns.barplot(x=counts, y=labels, palette='Set2')\n",
        "plt.xlabel('listen_count')\n",
        "plt.ylabel('artist_name')\n",
        "sns.despine(left=True, bottom=True)"
      ],
      "execution_count": null,
      "outputs": [
        {
          "output_type": "display_data",
          "data": {
            "image/png": "[encoded data removed]",
            "text/plain": [
              "<Figure size 432x288 with 1 Axes>"
            ]
          },
          "metadata": {
            "tags": [],
            "needs_background": "light"
          }
        }
      ]
    },
    {
      "cell_type": "code",
      "metadata": {
        "id": "02LYeMxeAfbu"
      },
      "source": [
        "song_user = df_songs.groupby('user_id')['song_id'].count()"
      ],
      "execution_count": null,
      "outputs": []
    },
    {
      "cell_type": "code",
      "metadata": {
        "id": "Pb_iVtXUE0oD"
      },
      "source": [
        "song_user = df_songs.groupby('user_id')['song_id'].count()"
      ],
      "execution_count": null,
      "outputs": []
    },
    {
      "cell_type": "code",
      "metadata": {
        "id": "hE9ESmNFGqlh"
      },
      "source": [
        "listen_counts = pd.DataFrame(df_songs.groupby('listen_count').size(), columns=['count'])"
      ],
      "execution_count": null,
      "outputs": []
    },
    {
      "cell_type": "code",
      "metadata": {
        "id": "K9PB7loxIXWw",
        "outputId": "1bbfdf9f-3d91-4340-9c3b-c08d3239a2a0",
        "colab": {
          "base_uri": "https://localhost:8080/",
          "height": 272
        }
      },
      "source": [
        "print(listen_counts)"
      ],
      "execution_count": null,
      "outputs": [
        {
          "output_type": "stream",
          "text": [
            "                count\n",
            "listen_count         \n",
            "1             1138433\n",
            "2              313043\n",
            "3              142933\n",
            "4               82569\n",
            "5               93136\n",
            "...               ...\n",
            "683                 1\n",
            "796                 1\n",
            "879                 1\n",
            "920                 1\n",
            "2213                1\n",
            "\n",
            "[295 rows x 1 columns]\n"
          ],
          "name": "stdout"
        }
      ]
    },
    {
      "cell_type": "code",
      "metadata": {
        "id": "uwgrYLlEIfV6",
        "outputId": "2ca03a55-3c64-4c89-e0bd-b0869630c616",
        "colab": {
          "base_uri": "https://localhost:8080/",
          "height": 34
        }
      },
      "source": [
        "song_user = df_songs.groupby('listen_count')['song_id'].count()\n",
        "print()"
      ],
      "execution_count": null,
      "outputs": [
        {
          "output_type": "stream",
          "text": [
            "\n"
          ],
          "name": "stdout"
        }
      ]
    },
    {
      "cell_type": "code",
      "metadata": {
        "id": "hGIldLhgJSTj",
        "outputId": "82da385a-8cda-4402-e3aa-97df907f84af",
        "colab": {
          "base_uri": "https://localhost:8080/",
          "height": 561
        }
      },
      "source": [
        "plt.figure(figsize=(16, 8))\n",
        "sns.distplot(song_user.values, color='red')\n",
        "plt.gca().spines['top'].set_visible(False)\n",
        "plt.gca().spines['right'].set_visible(False)\n",
        "plt.show();"
      ],
      "execution_count": null,
      "outputs": [
        {
          "output_type": "stream",
          "text": [
            "/usr/local/lib/python3.6/dist-packages/seaborn/distributions.py:2551: FutureWarning: `distplot` is a deprecated function and will be removed in a future version. Please adapt your code to use either `displot` (a figure-level function with similar flexibility) or `histplot` (an axes-level function for histograms).\n",
            "  warnings.warn(msg, FutureWarning)\n"
          ],
          "name": "stderr"
        },
        {
          "output_type": "display_data",
          "data": {
            "image/png": "[encoded data removed]",
            "text/plain": [
              "<Figure size 1152x576 with 1 Axes>"
            ]
          },
          "metadata": {
            "tags": [],
            "needs_background": "light"
          }
        }
      ]
    },
    {
      "cell_type": "code",
      "metadata": {
        "id": "nI9w6ZmpTF4F"
      },
      "source": [
        "plt.figure(figsize=(20, 5))\n",
        "sns.boxplot(x='listen_count', data=df_songs)"
      ],
      "execution_count": null,
      "outputs": []
    },
    {
      "cell_type": "code",
      "metadata": {
        "id": "09b3wmKHUdfq",
        "outputId": "2a5c4f29-fecd-4221-b887-345a65d8987e",
        "colab": {
          "base_uri": "https://localhost:8080/",
          "height": 476
        }
      },
      "source": [
        "track_metadata_df = pd.read_csv('https://static.turi.com/datasets/millionsong/song_data.csv')\n",
        "count_play_df = pd.read_csv('https://static.turi.com/datasets/millionsong/10000.txt', sep='\\t', header=None, names=['user','song','play_count'])\n",
        "\n",
        "print('First sea of track metadata:')\n",
        "print('Number of rows:', track_metadata_df.shape[0])\n",
        "print('Number of unique songs:', len(track_metadata_df.song_id.unique()))\n",
        "display(track_metadata_df.head())\n",
        "print('Note the problem with repeated track metadata. Let\\'s see of counts play song by users:')\n",
        "display(count_play_df.shape, count_play_df.head())"
      ],
      "execution_count": null,
      "outputs": [
        {
          "output_type": "stream",
          "text": [
            "First sea of track metadata:\n",
            "Number of rows: 1000000\n",
            "Number of unique songs: 999056\n"
          ],
          "name": "stdout"
        },
        {
          "output_type": "display_data",
          "data": {
            "text/html": [
              "<div>\n",
              "<style scoped>\n",
              "    .dataframe tbody tr th:only-of-type {\n",
              "        vertical-align: middle;\n",
              "    }\n",
              "\n",
              "    .dataframe tbody tr th {\n",
              "        vertical-align: top;\n",
              "    }\n",
              "\n",
              "    .dataframe thead th {\n",
              "        text-align: right;\n",
              "    }\n",
              "</style>\n",
              "<table border=\"1\" class=\"dataframe\">\n",
              "  <thead>\n",
              "    <tr style=\"text-align: right;\">\n",
              "      <th></th>\n",
              "      <th>song_id</th>\n",
              "      <th>title</th>\n",
              "      <th>release</th>\n",
              "      <th>artist_name</th>\n",
              "      <th>year</th>\n",
              "    </tr>\n",
              "  </thead>\n",
              "  <tbody>\n",
              "    <tr>\n",
              "      <th>0</th>\n",
              "      <td>SOQMMHC12AB0180CB8</td>\n",
              "      <td>Silent Night</td>\n",
              "      <td>Monster Ballads X-Mas</td>\n",
              "      <td>Faster Pussy cat</td>\n",
              "      <td>2003</td>\n",
              "    </tr>\n",
              "    <tr>\n",
              "      <th>1</th>\n",
              "      <td>SOVFVAK12A8C1350D9</td>\n",
              "      <td>Tanssi vaan</td>\n",
              "      <td>Karkuteillä</td>\n",
              "      <td>Karkkiautomaatti</td>\n",
              "      <td>1995</td>\n",
              "    </tr>\n",
              "    <tr>\n",
              "      <th>2</th>\n",
              "      <td>SOGTUKN12AB017F4F1</td>\n",
              "      <td>No One Could Ever</td>\n",
              "      <td>Butter</td>\n",
              "      <td>Hudson Mohawke</td>\n",
              "      <td>2006</td>\n",
              "    </tr>\n",
              "    <tr>\n",
              "      <th>3</th>\n",
              "      <td>SOBNYVR12A8C13558C</td>\n",
              "      <td>Si Vos Querés</td>\n",
              "      <td>De Culo</td>\n",
              "      <td>Yerba Brava</td>\n",
              "      <td>2003</td>\n",
              "    </tr>\n",
              "    <tr>\n",
              "      <th>4</th>\n",
              "      <td>SOHSBXH12A8C13B0DF</td>\n",
              "      <td>Tangle Of Aspens</td>\n",
              "      <td>Rene Ablaze Presents Winter Sessions</td>\n",
              "      <td>Der Mystic</td>\n",
              "      <td>0</td>\n",
              "    </tr>\n",
              "  </tbody>\n",
              "</table>\n",
              "</div>"
            ],
            "text/plain": [
              "              song_id              title  ...       artist_name  year\n",
              "0  SOQMMHC12AB0180CB8       Silent Night  ...  Faster Pussy cat  2003\n",
              "1  SOVFVAK12A8C1350D9        Tanssi vaan  ...  Karkkiautomaatti  1995\n",
              "2  SOGTUKN12AB017F4F1  No One Could Ever  ...    Hudson Mohawke  2006\n",
              "3  SOBNYVR12A8C13558C      Si Vos Querés  ...       Yerba Brava  2003\n",
              "4  SOHSBXH12A8C13B0DF   Tangle Of Aspens  ...        Der Mystic     0\n",
              "\n",
              "[5 rows x 5 columns]"
            ]
          },
          "metadata": {
            "tags": []
          }
        },
        {
          "output_type": "stream",
          "text": [
            "Note the problem with repeated track metadata. Let's see of counts play song by users:\n"
          ],
          "name": "stdout"
        },
        {
          "output_type": "display_data",
          "data": {
            "text/plain": [
              "(2000000, 3)"
            ]
          },
          "metadata": {
            "tags": []
          }
        },
        {
          "output_type": "display_data",
          "data": {
            "text/html": [
              "<div>\n",
              "<style scoped>\n",
              "    .dataframe tbody tr th:only-of-type {\n",
              "        vertical-align: middle;\n",
              "    }\n",
              "\n",
              "    .dataframe tbody tr th {\n",
              "        vertical-align: top;\n",
              "    }\n",
              "\n",
              "    .dataframe thead th {\n",
              "        text-align: right;\n",
              "    }\n",
              "</style>\n",
              "<table border=\"1\" class=\"dataframe\">\n",
              "  <thead>\n",
              "    <tr style=\"text-align: right;\">\n",
              "      <th></th>\n",
              "      <th>user</th>\n",
              "      <th>song</th>\n",
              "      <th>play_count</th>\n",
              "    </tr>\n",
              "  </thead>\n",
              "  <tbody>\n",
              "    <tr>\n",
              "      <th>0</th>\n",
              "      <td>b80344d063b5ccb3212f76538f3d9e43d87dca9e</td>\n",
              "      <td>SOAKIMP12A8C130995</td>\n",
              "      <td>1</td>\n",
              "    </tr>\n",
              "    <tr>\n",
              "      <th>1</th>\n",
              "      <td>b80344d063b5ccb3212f76538f3d9e43d87dca9e</td>\n",
              "      <td>SOBBMDR12A8C13253B</td>\n",
              "      <td>2</td>\n",
              "    </tr>\n",
              "    <tr>\n",
              "      <th>2</th>\n",
              "      <td>b80344d063b5ccb3212f76538f3d9e43d87dca9e</td>\n",
              "      <td>SOBXHDL12A81C204C0</td>\n",
              "      <td>1</td>\n",
              "    </tr>\n",
              "    <tr>\n",
              "      <th>3</th>\n",
              "      <td>b80344d063b5ccb3212f76538f3d9e43d87dca9e</td>\n",
              "      <td>SOBYHAJ12A6701BF1D</td>\n",
              "      <td>1</td>\n",
              "    </tr>\n",
              "    <tr>\n",
              "      <th>4</th>\n",
              "      <td>b80344d063b5ccb3212f76538f3d9e43d87dca9e</td>\n",
              "      <td>SODACBL12A8C13C273</td>\n",
              "      <td>1</td>\n",
              "    </tr>\n",
              "  </tbody>\n",
              "</table>\n",
              "</div>"
            ],
            "text/plain": [
              "                                       user                song  play_count\n",
              "0  b80344d063b5ccb3212f76538f3d9e43d87dca9e  SOAKIMP12A8C130995           1\n",
              "1  b80344d063b5ccb3212f76538f3d9e43d87dca9e  SOBBMDR12A8C13253B           2\n",
              "2  b80344d063b5ccb3212f76538f3d9e43d87dca9e  SOBXHDL12A81C204C0           1\n",
              "3  b80344d063b5ccb3212f76538f3d9e43d87dca9e  SOBYHAJ12A6701BF1D           1\n",
              "4  b80344d063b5ccb3212f76538f3d9e43d87dca9e  SODACBL12A8C13C273           1"
            ]
          },
          "metadata": {
            "tags": []
          }
        }
      ]
    },
    {
      "cell_type": "code",
      "metadata": {
        "id": "2TanrpWKUZJD",
        "outputId": "8d87666b-0932-4996-d287-9833dc38555b",
        "colab": {
          "base_uri": "https://localhost:8080/",
          "height": 238
        }
      },
      "source": [
        "unique_track_metadata_df = track_metadata_df.groupby('song_id').max().reset_index()\n",
        "\n",
        "print('Number of rows after unique song Id treatment:', unique_track_metadata_df.shape[0])\n",
        "print('Number of unique songs:', len(unique_track_metadata_df.song_id.unique()))\n",
        "display(unique_track_metadata_df.head())"
      ],
      "execution_count": null,
      "outputs": [
        {
          "output_type": "stream",
          "text": [
            "Number of rows after unique song Id treatment: 999056\n",
            "Number of unique songs: 999056\n"
          ],
          "name": "stdout"
        },
        {
          "output_type": "display_data",
          "data": {
            "text/html": [
              "<div>\n",
              "<style scoped>\n",
              "    .dataframe tbody tr th:only-of-type {\n",
              "        vertical-align: middle;\n",
              "    }\n",
              "\n",
              "    .dataframe tbody tr th {\n",
              "        vertical-align: top;\n",
              "    }\n",
              "\n",
              "    .dataframe thead th {\n",
              "        text-align: right;\n",
              "    }\n",
              "</style>\n",
              "<table border=\"1\" class=\"dataframe\">\n",
              "  <thead>\n",
              "    <tr style=\"text-align: right;\">\n",
              "      <th></th>\n",
              "      <th>song_id</th>\n",
              "      <th>title</th>\n",
              "      <th>release</th>\n",
              "      <th>artist_name</th>\n",
              "      <th>year</th>\n",
              "    </tr>\n",
              "  </thead>\n",
              "  <tbody>\n",
              "    <tr>\n",
              "      <th>0</th>\n",
              "      <td>SOAAABI12A8C13615F</td>\n",
              "      <td>Afro Jazziac</td>\n",
              "      <td>To Birdland And Hurry</td>\n",
              "      <td>Herbie Mann</td>\n",
              "      <td>2000</td>\n",
              "    </tr>\n",
              "    <tr>\n",
              "      <th>1</th>\n",
              "      <td>SOAAABT12AC46860F0</td>\n",
              "      <td>Herre Gud Ditt Dyre Namn Og Ære</td>\n",
              "      <td>Som Den Gyldne Sol Frembryter</td>\n",
              "      <td>Bergen Big Band</td>\n",
              "      <td>0</td>\n",
              "    </tr>\n",
              "    <tr>\n",
              "      <th>2</th>\n",
              "      <td>SOAAABX12A8C13FEB2</td>\n",
              "      <td>N.Y.C. Remix</td>\n",
              "      <td>Paris Can´t Wait</td>\n",
              "      <td>Guardner</td>\n",
              "      <td>0</td>\n",
              "    </tr>\n",
              "    <tr>\n",
              "      <th>3</th>\n",
              "      <td>SOAAACR12A58A79456</td>\n",
              "      <td>Irresistible</td>\n",
              "      <td>Wowie Zowie</td>\n",
              "      <td>Superchumbo</td>\n",
              "      <td>2002</td>\n",
              "    </tr>\n",
              "    <tr>\n",
              "      <th>4</th>\n",
              "      <td>SOAAACY12A58A79663</td>\n",
              "      <td>Untitled 1</td>\n",
              "      <td>Pine Cone Temples</td>\n",
              "      <td>Thuja</td>\n",
              "      <td>0</td>\n",
              "    </tr>\n",
              "  </tbody>\n",
              "</table>\n",
              "</div>"
            ],
            "text/plain": [
              "              song_id                            title  ...      artist_name  year\n",
              "0  SOAAABI12A8C13615F                     Afro Jazziac  ...      Herbie Mann  2000\n",
              "1  SOAAABT12AC46860F0  Herre Gud Ditt Dyre Namn Og Ære  ...  Bergen Big Band     0\n",
              "2  SOAAABX12A8C13FEB2                     N.Y.C. Remix  ...         Guardner     0\n",
              "3  SOAAACR12A58A79456                     Irresistible  ...      Superchumbo  2002\n",
              "4  SOAAACY12A58A79663                       Untitled 1  ...            Thuja     0\n",
              "\n",
              "[5 rows x 5 columns]"
            ]
          },
          "metadata": {
            "tags": []
          }
        }
      ]
    },
    {
      "cell_type": "code",
      "metadata": {
        "id": "bBRGkwksUQjY"
      },
      "source": [
        "user_song_list_count = pd.merge(count_play_df, \n",
        "                                unique_track_metadata_df, how='left', \n",
        "                                left_on='song', \n",
        "                                right_on='song_id')\n",
        "user_song_list_count.rename(columns={'play_count':'listen_count'},inplace=True)\n",
        "del(user_song_list_count['song_id'])"
      ],
      "execution_count": null,
      "outputs": []
    },
    {
      "cell_type": "code",
      "metadata": {
        "id": "ZuTXAMrXTNq9",
        "outputId": "7cabcff1-145f-49e7-ea93-52a56950e366",
        "colab": {
          "base_uri": "https://localhost:8080/",
          "height": 630
        }
      },
      "source": [
        "fig = plt.figure(figsize=(50, 25))\n",
        "a1 = fig.add_subplot(221)\n",
        "popular_songs = user_song_list_count[['title','listen_count']].groupby('title').sum().\\\n",
        "                sort_values('listen_count', ascending=False).head(20).sort_values('listen_count')\n",
        "f1 = popular_songs.plot(kind='barh', title='Top 20 Most Popular Songs', legend=False, ax=a1)\n",
        "plt.xticks(rotation='vertical')\n",
        "plt.ylabel('Item count')\n",
        "\n",
        "a2 = fig.add_subplot(222)\n",
        "popular_release = user_song_list_count[['release','listen_count']].groupby('release').sum().\\\n",
        "                sort_values('listen_count', ascending=False).head(20).sort_values('listen_count')\n",
        "f2 = popular_release.plot(kind='barh', title='Top 20 Most Popular Releases', legend=False, ax=a2)\n",
        "plt.xticks(rotation='vertical')\n",
        "plt.ylabel('Item count')\n",
        "\n",
        "a3 = fig.add_subplot(223)\n",
        "popular_artist = user_song_list_count[['artist_name','listen_count']].groupby('artist_name').sum().\\\n",
        "                sort_values('listen_count', ascending=False).head(20).sort_values('listen_count')\n",
        "\n",
        "f1 = popular_songs.plot(kind='barh', title='Top 20 Most Popular Songs', legend=False, ax=a1)\n",
        "plt.xticks(rotation='vertical')\n",
        "plt.ylabel('Item count')\n",
        "\n",
        "a2 = fig.add_subplot(222)\n",
        "popular_release = user_song_list_count[['release','listen_count']].groupby('release').sum().\\\n",
        "                sort_values('listen_count', ascending=False).head(20).sort_values('listen_count')\n",
        "f2 = popular_release.plot(kind='barh', title='Top 20 Most Popular Releases', legend=False, ax=a2)\n",
        "plt.xticks(rotation='vertical')\n",
        "plt.ylabel('Item count')\n",
        "\n",
        "a3 = fig.add_subplot(223)\n",
        "popular_artist = user_song_list_count[['artist_name','listen_count']].groupby('artist_name').sum().\\\n",
        "                sort_values('listen_count', ascending=False).head(20).sort_values('listen_count')\n",
        "f1 = popular_artist.plot(kind='barh', title='Top 20 Most Popular Artists', legend=False, ax=a3)\n",
        "plt.xticks(rotation='vertical')\n",
        "plt.ylabel('Item count')\n",
        "\n",
        "a4 = fig.add_subplot(224)\n",
        "popular_year = user_song_list_count[['year','listen_count']].groupby('year').sum().\\\n",
        "                sort_values('listen_count', ascending=False).head(20).sort_values('listen_count')\n",
        "\n",
        "f1 = popular_year.plot(kind='barh', title='Top 20 Most Popular Years of Song Listen', legend=False, ax=a4)\n",
        "plt.xticks(rotation='vertical')\n",
        "plt.ylabel('Item count')\n",
        "\n",
        "plt.show()                                "
      ],
      "execution_count": null,
      "outputs": [
        {
          "output_type": "stream",
          "text": [
            "/usr/local/lib/python3.6/dist-packages/ipykernel_launcher.py:21: MatplotlibDeprecationWarning: Adding an axes using the same arguments as a previous axes currently reuses the earlier instance.  In a future version, a new instance will always be created and returned.  Meanwhile, this warning can be suppressed, and the future behavior ensured, by passing a unique label to each axes instance.\n",
            "/usr/local/lib/python3.6/dist-packages/ipykernel_launcher.py:27: MatplotlibDeprecationWarning: Adding an axes using the same arguments as a previous axes currently reuses the earlier instance.  In a future version, a new instance will always be created and returned.  Meanwhile, this warning can be suppressed, and the future behavior ensured, by passing a unique label to each axes instance.\n"
          ],
          "name": "stderr"
        },
        {
          "output_type": "display_data",
          "data": {
            "image/png": "[encoded data removed]",
            "text/plain": [
              "<Figure size 3600x1800 with 4 Axes>"
            ]
          },
          "metadata": {
            "tags": [],
            "needs_background": "light"
          }
        }
      ]
    },
    {
      "cell_type": "code",
      "metadata": {
        "id": "MrBhTHTR4uXG",
        "outputId": "f95c467e-2bb2-46d4-ea83-16b25cac814a",
        "colab": {
          "base_uri": "https://localhost:8080/"
        }
      },
      "source": [
        "!pip install fuzzywuzzy"
      ],
      "execution_count": null,
      "outputs": [
        {
          "output_type": "stream",
          "text": [
            "Collecting fuzzywuzzy\n",
            "  Downloading https://files.pythonhosted.org/packages/43/ff/74f23998ad2f93b945c0309f825be92e04e0348e062026998b5eefef4c33/fuzzywuzzy-0.18.0-py2.py3-none-any.whl\n",
            "Installing collected packages: fuzzywuzzy\n",
            "Successfully installed fuzzywuzzy-0.18.0\n"
          ],
          "name": "stdout"
        }
      ]
    },
    {
      "cell_type": "markdown",
      "metadata": {
        "id": "gaLjr4a-NGGF"
      },
      "source": [
        "# Data Preprocessing\n"
      ]
    },
    {
      "cell_type": "code",
      "metadata": {
        "id": "xJV7K3QMp2uZ"
      },
      "source": [
        "song_user = df_songs.groupby('user_id')['song_id'].count()"
      ],
      "execution_count": null,
      "outputs": []
    },
    {
      "cell_type": "code",
      "metadata": {
        "id": "vGJ6X170o1g5"
      },
      "source": [
        "# Get users which have listen to at least 16 songs\n",
        "song_ten_id = song_user[song_user > 16].index.to_list()"
      ],
      "execution_count": null,
      "outputs": []
    },
    {
      "cell_type": "code",
      "metadata": {
        "id": "mTaHDoCnpM00"
      },
      "source": [
        " #Filtered the dataset to keep only those users with more than 16 listened\n",
        "df_song_id_more_ten = df_songs[df_songs['user_id'].isin(song_ten_id)].reset_index(drop=True)"
      ],
      "execution_count": null,
      "outputs": []
    },
    {
      "cell_type": "code",
      "metadata": {
        "id": "mMKvqi24qnJT"
      },
      "source": [
        "\n",
        "# convert the dataframe into a pivot table\n",
        "df_songs_features = df_song_id_more_ten.pivot(index='song_id', columns='user_id', values='listen_count').fillna(0)\n",
        "\n",
        "# obtain a sparse matrix\n",
        "mat_songs_features = csr_matrix(df_songs_features.values)"
      ],
      "execution_count": null,
      "outputs": []
    },
    {
      "cell_type": "code",
      "metadata": {
        "id": "_0j5RMNOqxl1",
        "outputId": "7b89d175-0215-4b30-d894-aff7f6662edc",
        "colab": {
          "base_uri": "https://localhost:8080/",
          "height": 274
        }
      },
      "source": [
        "df_songs_features.head()"
      ],
      "execution_count": null,
      "outputs": [
        {
          "output_type": "execute_result",
          "data": {
            "text/html": [
              "<div>\n",
              "<style scoped>\n",
              "    .dataframe tbody tr th:only-of-type {\n",
              "        vertical-align: middle;\n",
              "    }\n",
              "\n",
              "    .dataframe tbody tr th {\n",
              "        vertical-align: top;\n",
              "    }\n",
              "\n",
              "    .dataframe thead th {\n",
              "        text-align: right;\n",
              "    }\n",
              "</style>\n",
              "<table border=\"1\" class=\"dataframe\">\n",
              "  <thead>\n",
              "    <tr style=\"text-align: right;\">\n",
              "      <th>user_id</th>\n",
              "      <th>000e2c2a8c7870ff9121f212b35c8b3a20cc0e67</th>\n",
              "      <th>000ebc858861aca26bac9b49f650ed424cf882fc</th>\n",
              "      <th>000ef25cc955ad5841c915d269432eea41f4a1a5</th>\n",
              "      <th>0012bf75d43a724f62dc746d9e85ae0088a3a1d6</th>\n",
              "      <th>001322829b5dc3edc59bf78189617ddd8f23c82a</th>\n",
              "      <th>00185e316f07f0f00c325ca034be59c15b362401</th>\n",
              "      <th>0019740e3e8c24e223a6f88e3faa7c144ec5a014</th>\n",
              "      <th>001b005fe5e80d3cb45f320f5658fc8e2e72794e</th>\n",
              "      <th>001f22c638730aed5659034c447d3cf0e658898e</th>\n",
              "      <th>0021d9a4628624f6d70237f9c200ab82e766bf26</th>\n",
              "      <th>002543003041db1d049206b09426d5cdffc0f451</th>\n",
              "      <th>0028292aa536122c1f86fd48a39bd83fe582d27f</th>\n",
              "      <th>00292cf9c6d6e99c5ddbece7e37f957ab1362d25</th>\n",
              "      <th>00296f66ed7fb84c876486aecc9fab2d5809576d</th>\n",
              "      <th>0030822badc23ef6500a72ce7feda1c63faf2262</th>\n",
              "      <th>0031572620fa7f18487d3ea22935eb28410ecc4c</th>\n",
              "      <th>003412e33eb3d05573f7811c1ba61d6a15be5690</th>\n",
              "      <th>00342a0cdf56a45465f09a39040a5bc25b7d0046</th>\n",
              "      <th>00388e5764c59488ec06a109c88b39f59a2b6361</th>\n",
              "      <th>0039bd8483d578997718cdc0bf6c7c88b679f488</th>\n",
              "      <th>003ac50a4e6ed0c9085fecb7a1738730e7ea4942</th>\n",
              "      <th>003bfb50126f91f6389aaee733f5b3e0a8d5cbe0</th>\n",
              "      <th>003d0f3aac94fd261bb74c0124a90750579972d4</th>\n",
              "      <th>003d21762b29fe2ffe20fb9a51eb1e02ebeb3242</th>\n",
              "      <th>003d6d799d58e1fce362f5f4f6c7bcc26c8f3546</th>\n",
              "      <th>003e3919f41dbb8ff05a75623d205f6abcede4fc</th>\n",
              "      <th>003f1064ed75d1156352cd89b25fb752bcc10b13</th>\n",
              "      <th>003f1e939952a57d1a5bc990727acad5ceea97b4</th>\n",
              "      <th>00409f6a83c2bf4299ab6ae2dea958050537b5a9</th>\n",
              "      <th>0041925615557845642a7b1257fdc6229fe1ee5d</th>\n",
              "      <th>00454c72c0b4b99f9cc81ba0b1989597a43669d6</th>\n",
              "      <th>0045c60d98ced5efb3cbf1e0b4b7de1da3f1a506</th>\n",
              "      <th>00488ec44caa0d2fa669780f8cb604bf39e94392</th>\n",
              "      <th>004c7be9336ca88824e1e0b09ef9a2168200fa33</th>\n",
              "      <th>004dc9f93f5ad4a75f9a3ba0da5dd887b31d6bd2</th>\n",
              "      <th>004f6065fa9840913f62e52d94d9c29ea1d26fe1</th>\n",
              "      <th>004fcdf8829d68f4e45ef846ad9f308c4493ed8e</th>\n",
              "      <th>0051a2e7b452e3dc67f48688442032df557897f4</th>\n",
              "      <th>00544d8bde0d7985e8d703c1eb676d41cad33c67</th>\n",
              "      <th>00546de8971645143eead323561d0298d5b0f2be</th>\n",
              "      <th>...</th>\n",
              "      <th>ffb63da2222280f299a7a896edea073728aab343</th>\n",
              "      <th>ffb7096f3eeee706825b4a8c3fab98ce0e0b4216</th>\n",
              "      <th>ffb8299fcb3f31716c93fb8a77dee0d1dbb210f9</th>\n",
              "      <th>ffba3563fd590a51dabc1dfcb8a27119e6035241</th>\n",
              "      <th>ffbc58b89c81227a08ee05d90259bdd9172b9479</th>\n",
              "      <th>ffbe437f18c3bea5c78596c5f3183ee62d440b6c</th>\n",
              "      <th>ffc2563e7dd136bf371371cd21f0cc404a1d7499</th>\n",
              "      <th>ffc564b85d81f0ea427cee3eea2415cc2fc5c4be</th>\n",
              "      <th>ffc5b3bd0575330eb8c4ae4f3b9cabd3ba315dbb</th>\n",
              "      <th>ffc66b4520671da6b2a67a0326201565160d9650</th>\n",
              "      <th>ffc9966885909a0b42493b2558be9dc451317488</th>\n",
              "      <th>ffcc2cff250ea22471df09e76f59e2be0debae72</th>\n",
              "      <th>ffcfb0b34a47fdf55b3d96c1799cd196677f8261</th>\n",
              "      <th>ffd1d617221f5bf00de80ee3eb5d2a17fc8d077d</th>\n",
              "      <th>ffd25d7da8b4e54ea2cde25dd3b52d0e0aef7a5d</th>\n",
              "      <th>ffd458f903d49854685cf4540245c1d297e8bafa</th>\n",
              "      <th>ffd6f34b343cee62cd7dbbf20fb1ab1119b299e5</th>\n",
              "      <th>ffda2736b2204ece3b19e941caacad4106d00ed5</th>\n",
              "      <th>ffdaab327f2fc6b9fa01a4e3e7f41fdd0e468046</th>\n",
              "      <th>ffdb5557e4e24da051ebd6b45ec18c524c55dc40</th>\n",
              "      <th>ffdbaeb5cf2081eb34053a655c20f57524de11ba</th>\n",
              "      <th>ffde97c0d23bf5ce249ce73e630ccb4e7293cc32</th>\n",
              "      <th>ffe2a7e7b6689071f8c699d944b52ce590ae4636</th>\n",
              "      <th>ffe33dce4e652a4dc4824cc39680a9f709cfdfb3</th>\n",
              "      <th>ffebfec313fd515a11faba060b022f030b57fac0</th>\n",
              "      <th>ffecbb84f3dde31b0b2e64d70b7b7e5092bf7427</th>\n",
              "      <th>ffef9c3e59ab44554a9775af5e3b2ac149111bb6</th>\n",
              "      <th>fff03efd1550136063389fa71125194614e1c68f</th>\n",
              "      <th>fff0b1ab076f0b71cbde9c7dcbcfca400708d845</th>\n",
              "      <th>fff22417a61c1ba3ee2592b22a052ed6a27a8e91</th>\n",
              "      <th>fff300cd094fe04030b79fae550dc9d065190182</th>\n",
              "      <th>fff4676dacb2e9a7217702f62ee70e88aa512ecc</th>\n",
              "      <th>fff4e1a7dacbe9c13051c08f09bf66d76cbee35e</th>\n",
              "      <th>fff543db7918cb8f4f56f7470903eb2f1d5a6dd8</th>\n",
              "      <th>fff6c30c773e6ffafcac213c9afd9666afaf6d63</th>\n",
              "      <th>fffb701ee87a32eff67eb040ed59146121f01571</th>\n",
              "      <th>fffc0df75a48d823ad5abfaf2a1ee61eb1e3302c</th>\n",
              "      <th>fffce9c1537fbc350ea68823d956eaa8f5236dbe</th>\n",
              "      <th>fffd9635b33f412de8ed02e44e6564e3644cf3c6</th>\n",
              "      <th>fffea3d509760c984e7d40789804c0e5e289cc86</th>\n",
              "    </tr>\n",
              "    <tr>\n",
              "      <th>song_id</th>\n",
              "      <th></th>\n",
              "      <th></th>\n",
              "      <th></th>\n",
              "      <th></th>\n",
              "      <th></th>\n",
              "      <th></th>\n",
              "      <th></th>\n",
              "      <th></th>\n",
              "      <th></th>\n",
              "      <th></th>\n",
              "      <th></th>\n",
              "      <th></th>\n",
              "      <th></th>\n",
              "      <th></th>\n",
              "      <th></th>\n",
              "      <th></th>\n",
              "      <th></th>\n",
              "      <th></th>\n",
              "      <th></th>\n",
              "      <th></th>\n",
              "      <th></th>\n",
              "      <th></th>\n",
              "      <th></th>\n",
              "      <th></th>\n",
              "      <th></th>\n",
              "      <th></th>\n",
              "      <th></th>\n",
              "      <th></th>\n",
              "      <th></th>\n",
              "      <th></th>\n",
              "      <th></th>\n",
              "      <th></th>\n",
              "      <th></th>\n",
              "      <th></th>\n",
              "      <th></th>\n",
              "      <th></th>\n",
              "      <th></th>\n",
              "      <th></th>\n",
              "      <th></th>\n",
              "      <th></th>\n",
              "      <th></th>\n",
              "      <th></th>\n",
              "      <th></th>\n",
              "      <th></th>\n",
              "      <th></th>\n",
              "      <th></th>\n",
              "      <th></th>\n",
              "      <th></th>\n",
              "      <th></th>\n",
              "      <th></th>\n",
              "      <th></th>\n",
              "      <th></th>\n",
              "      <th></th>\n",
              "      <th></th>\n",
              "      <th></th>\n",
              "      <th></th>\n",
              "      <th></th>\n",
              "      <th></th>\n",
              "      <th></th>\n",
              "      <th></th>\n",
              "      <th></th>\n",
              "      <th></th>\n",
              "      <th></th>\n",
              "      <th></th>\n",
              "      <th></th>\n",
              "      <th></th>\n",
              "      <th></th>\n",
              "      <th></th>\n",
              "      <th></th>\n",
              "      <th></th>\n",
              "      <th></th>\n",
              "      <th></th>\n",
              "      <th></th>\n",
              "      <th></th>\n",
              "      <th></th>\n",
              "      <th></th>\n",
              "      <th></th>\n",
              "      <th></th>\n",
              "      <th></th>\n",
              "      <th></th>\n",
              "      <th></th>\n",
              "    </tr>\n",
              "  </thead>\n",
              "  <tbody>\n",
              "    <tr>\n",
              "      <th>SOAAAGQ12A8C1420C8</th>\n",
              "      <td>0.0</td>\n",
              "      <td>0.0</td>\n",
              "      <td>0.0</td>\n",
              "      <td>0.0</td>\n",
              "      <td>0.0</td>\n",
              "      <td>0.0</td>\n",
              "      <td>0.0</td>\n",
              "      <td>0.0</td>\n",
              "      <td>0.0</td>\n",
              "      <td>0.0</td>\n",
              "      <td>0.0</td>\n",
              "      <td>0.0</td>\n",
              "      <td>0.0</td>\n",
              "      <td>0.0</td>\n",
              "      <td>0.0</td>\n",
              "      <td>0.0</td>\n",
              "      <td>0.0</td>\n",
              "      <td>0.0</td>\n",
              "      <td>0.0</td>\n",
              "      <td>0.0</td>\n",
              "      <td>0.0</td>\n",
              "      <td>0.0</td>\n",
              "      <td>0.0</td>\n",
              "      <td>0.0</td>\n",
              "      <td>0.0</td>\n",
              "      <td>0.0</td>\n",
              "      <td>0.0</td>\n",
              "      <td>0.0</td>\n",
              "      <td>0.0</td>\n",
              "      <td>0.0</td>\n",
              "      <td>0.0</td>\n",
              "      <td>0.0</td>\n",
              "      <td>0.0</td>\n",
              "      <td>0.0</td>\n",
              "      <td>0.0</td>\n",
              "      <td>0.0</td>\n",
              "      <td>0.0</td>\n",
              "      <td>0.0</td>\n",
              "      <td>0.0</td>\n",
              "      <td>0.0</td>\n",
              "      <td>...</td>\n",
              "      <td>0.0</td>\n",
              "      <td>0.0</td>\n",
              "      <td>0.0</td>\n",
              "      <td>0.0</td>\n",
              "      <td>0.0</td>\n",
              "      <td>0.0</td>\n",
              "      <td>0.0</td>\n",
              "      <td>0.0</td>\n",
              "      <td>0.0</td>\n",
              "      <td>0.0</td>\n",
              "      <td>0.0</td>\n",
              "      <td>0.0</td>\n",
              "      <td>0.0</td>\n",
              "      <td>0.0</td>\n",
              "      <td>0.0</td>\n",
              "      <td>0.0</td>\n",
              "      <td>0.0</td>\n",
              "      <td>0.0</td>\n",
              "      <td>0.0</td>\n",
              "      <td>0.0</td>\n",
              "      <td>0.0</td>\n",
              "      <td>0.0</td>\n",
              "      <td>0.0</td>\n",
              "      <td>0.0</td>\n",
              "      <td>0.0</td>\n",
              "      <td>0.0</td>\n",
              "      <td>0.0</td>\n",
              "      <td>0.0</td>\n",
              "      <td>0.0</td>\n",
              "      <td>0.0</td>\n",
              "      <td>0.0</td>\n",
              "      <td>0.0</td>\n",
              "      <td>0.0</td>\n",
              "      <td>0.0</td>\n",
              "      <td>0.0</td>\n",
              "      <td>0.0</td>\n",
              "      <td>0.0</td>\n",
              "      <td>0.0</td>\n",
              "      <td>0.0</td>\n",
              "      <td>0.0</td>\n",
              "    </tr>\n",
              "    <tr>\n",
              "      <th>SOAACPJ12A81C21360</th>\n",
              "      <td>0.0</td>\n",
              "      <td>0.0</td>\n",
              "      <td>0.0</td>\n",
              "      <td>0.0</td>\n",
              "      <td>0.0</td>\n",
              "      <td>0.0</td>\n",
              "      <td>0.0</td>\n",
              "      <td>0.0</td>\n",
              "      <td>0.0</td>\n",
              "      <td>0.0</td>\n",
              "      <td>0.0</td>\n",
              "      <td>0.0</td>\n",
              "      <td>0.0</td>\n",
              "      <td>0.0</td>\n",
              "      <td>0.0</td>\n",
              "      <td>0.0</td>\n",
              "      <td>0.0</td>\n",
              "      <td>0.0</td>\n",
              "      <td>0.0</td>\n",
              "      <td>0.0</td>\n",
              "      <td>0.0</td>\n",
              "      <td>0.0</td>\n",
              "      <td>0.0</td>\n",
              "      <td>0.0</td>\n",
              "      <td>0.0</td>\n",
              "      <td>0.0</td>\n",
              "      <td>0.0</td>\n",
              "      <td>0.0</td>\n",
              "      <td>0.0</td>\n",
              "      <td>0.0</td>\n",
              "      <td>0.0</td>\n",
              "      <td>0.0</td>\n",
              "      <td>0.0</td>\n",
              "      <td>0.0</td>\n",
              "      <td>0.0</td>\n",
              "      <td>0.0</td>\n",
              "      <td>0.0</td>\n",
              "      <td>0.0</td>\n",
              "      <td>0.0</td>\n",
              "      <td>0.0</td>\n",
              "      <td>...</td>\n",
              "      <td>0.0</td>\n",
              "      <td>0.0</td>\n",
              "      <td>0.0</td>\n",
              "      <td>0.0</td>\n",
              "      <td>0.0</td>\n",
              "      <td>0.0</td>\n",
              "      <td>0.0</td>\n",
              "      <td>0.0</td>\n",
              "      <td>0.0</td>\n",
              "      <td>0.0</td>\n",
              "      <td>0.0</td>\n",
              "      <td>0.0</td>\n",
              "      <td>0.0</td>\n",
              "      <td>0.0</td>\n",
              "      <td>0.0</td>\n",
              "      <td>0.0</td>\n",
              "      <td>0.0</td>\n",
              "      <td>0.0</td>\n",
              "      <td>0.0</td>\n",
              "      <td>0.0</td>\n",
              "      <td>0.0</td>\n",
              "      <td>0.0</td>\n",
              "      <td>0.0</td>\n",
              "      <td>0.0</td>\n",
              "      <td>0.0</td>\n",
              "      <td>0.0</td>\n",
              "      <td>0.0</td>\n",
              "      <td>0.0</td>\n",
              "      <td>0.0</td>\n",
              "      <td>0.0</td>\n",
              "      <td>0.0</td>\n",
              "      <td>0.0</td>\n",
              "      <td>0.0</td>\n",
              "      <td>0.0</td>\n",
              "      <td>0.0</td>\n",
              "      <td>0.0</td>\n",
              "      <td>0.0</td>\n",
              "      <td>0.0</td>\n",
              "      <td>0.0</td>\n",
              "      <td>0.0</td>\n",
              "    </tr>\n",
              "    <tr>\n",
              "      <th>SOAACSG12AB018DC80</th>\n",
              "      <td>0.0</td>\n",
              "      <td>0.0</td>\n",
              "      <td>0.0</td>\n",
              "      <td>0.0</td>\n",
              "      <td>0.0</td>\n",
              "      <td>0.0</td>\n",
              "      <td>0.0</td>\n",
              "      <td>0.0</td>\n",
              "      <td>0.0</td>\n",
              "      <td>0.0</td>\n",
              "      <td>0.0</td>\n",
              "      <td>0.0</td>\n",
              "      <td>0.0</td>\n",
              "      <td>0.0</td>\n",
              "      <td>0.0</td>\n",
              "      <td>0.0</td>\n",
              "      <td>0.0</td>\n",
              "      <td>0.0</td>\n",
              "      <td>0.0</td>\n",
              "      <td>0.0</td>\n",
              "      <td>0.0</td>\n",
              "      <td>0.0</td>\n",
              "      <td>0.0</td>\n",
              "      <td>0.0</td>\n",
              "      <td>0.0</td>\n",
              "      <td>0.0</td>\n",
              "      <td>0.0</td>\n",
              "      <td>0.0</td>\n",
              "      <td>0.0</td>\n",
              "      <td>0.0</td>\n",
              "      <td>0.0</td>\n",
              "      <td>0.0</td>\n",
              "      <td>0.0</td>\n",
              "      <td>0.0</td>\n",
              "      <td>0.0</td>\n",
              "      <td>0.0</td>\n",
              "      <td>0.0</td>\n",
              "      <td>0.0</td>\n",
              "      <td>0.0</td>\n",
              "      <td>0.0</td>\n",
              "      <td>...</td>\n",
              "      <td>0.0</td>\n",
              "      <td>0.0</td>\n",
              "      <td>0.0</td>\n",
              "      <td>0.0</td>\n",
              "      <td>0.0</td>\n",
              "      <td>0.0</td>\n",
              "      <td>0.0</td>\n",
              "      <td>0.0</td>\n",
              "      <td>0.0</td>\n",
              "      <td>0.0</td>\n",
              "      <td>0.0</td>\n",
              "      <td>0.0</td>\n",
              "      <td>0.0</td>\n",
              "      <td>0.0</td>\n",
              "      <td>0.0</td>\n",
              "      <td>0.0</td>\n",
              "      <td>0.0</td>\n",
              "      <td>0.0</td>\n",
              "      <td>0.0</td>\n",
              "      <td>0.0</td>\n",
              "      <td>0.0</td>\n",
              "      <td>0.0</td>\n",
              "      <td>0.0</td>\n",
              "      <td>0.0</td>\n",
              "      <td>0.0</td>\n",
              "      <td>0.0</td>\n",
              "      <td>0.0</td>\n",
              "      <td>0.0</td>\n",
              "      <td>0.0</td>\n",
              "      <td>0.0</td>\n",
              "      <td>0.0</td>\n",
              "      <td>0.0</td>\n",
              "      <td>0.0</td>\n",
              "      <td>0.0</td>\n",
              "      <td>0.0</td>\n",
              "      <td>0.0</td>\n",
              "      <td>0.0</td>\n",
              "      <td>0.0</td>\n",
              "      <td>0.0</td>\n",
              "      <td>0.0</td>\n",
              "    </tr>\n",
              "    <tr>\n",
              "      <th>SOAAEJI12AB0188AB5</th>\n",
              "      <td>0.0</td>\n",
              "      <td>0.0</td>\n",
              "      <td>0.0</td>\n",
              "      <td>0.0</td>\n",
              "      <td>0.0</td>\n",
              "      <td>0.0</td>\n",
              "      <td>0.0</td>\n",
              "      <td>0.0</td>\n",
              "      <td>0.0</td>\n",
              "      <td>0.0</td>\n",
              "      <td>0.0</td>\n",
              "      <td>0.0</td>\n",
              "      <td>0.0</td>\n",
              "      <td>0.0</td>\n",
              "      <td>0.0</td>\n",
              "      <td>0.0</td>\n",
              "      <td>0.0</td>\n",
              "      <td>0.0</td>\n",
              "      <td>0.0</td>\n",
              "      <td>0.0</td>\n",
              "      <td>0.0</td>\n",
              "      <td>0.0</td>\n",
              "      <td>0.0</td>\n",
              "      <td>0.0</td>\n",
              "      <td>0.0</td>\n",
              "      <td>0.0</td>\n",
              "      <td>0.0</td>\n",
              "      <td>0.0</td>\n",
              "      <td>0.0</td>\n",
              "      <td>0.0</td>\n",
              "      <td>0.0</td>\n",
              "      <td>0.0</td>\n",
              "      <td>0.0</td>\n",
              "      <td>0.0</td>\n",
              "      <td>0.0</td>\n",
              "      <td>0.0</td>\n",
              "      <td>0.0</td>\n",
              "      <td>0.0</td>\n",
              "      <td>0.0</td>\n",
              "      <td>0.0</td>\n",
              "      <td>...</td>\n",
              "      <td>0.0</td>\n",
              "      <td>0.0</td>\n",
              "      <td>0.0</td>\n",
              "      <td>0.0</td>\n",
              "      <td>0.0</td>\n",
              "      <td>0.0</td>\n",
              "      <td>0.0</td>\n",
              "      <td>0.0</td>\n",
              "      <td>0.0</td>\n",
              "      <td>0.0</td>\n",
              "      <td>0.0</td>\n",
              "      <td>0.0</td>\n",
              "      <td>0.0</td>\n",
              "      <td>0.0</td>\n",
              "      <td>0.0</td>\n",
              "      <td>0.0</td>\n",
              "      <td>0.0</td>\n",
              "      <td>0.0</td>\n",
              "      <td>1.0</td>\n",
              "      <td>0.0</td>\n",
              "      <td>0.0</td>\n",
              "      <td>0.0</td>\n",
              "      <td>0.0</td>\n",
              "      <td>0.0</td>\n",
              "      <td>0.0</td>\n",
              "      <td>0.0</td>\n",
              "      <td>0.0</td>\n",
              "      <td>0.0</td>\n",
              "      <td>0.0</td>\n",
              "      <td>0.0</td>\n",
              "      <td>0.0</td>\n",
              "      <td>0.0</td>\n",
              "      <td>0.0</td>\n",
              "      <td>0.0</td>\n",
              "      <td>0.0</td>\n",
              "      <td>0.0</td>\n",
              "      <td>0.0</td>\n",
              "      <td>0.0</td>\n",
              "      <td>0.0</td>\n",
              "      <td>0.0</td>\n",
              "    </tr>\n",
              "    <tr>\n",
              "      <th>SOAAFAC12A67ADF7EB</th>\n",
              "      <td>0.0</td>\n",
              "      <td>0.0</td>\n",
              "      <td>0.0</td>\n",
              "      <td>0.0</td>\n",
              "      <td>0.0</td>\n",
              "      <td>0.0</td>\n",
              "      <td>0.0</td>\n",
              "      <td>0.0</td>\n",
              "      <td>0.0</td>\n",
              "      <td>0.0</td>\n",
              "      <td>0.0</td>\n",
              "      <td>0.0</td>\n",
              "      <td>0.0</td>\n",
              "      <td>0.0</td>\n",
              "      <td>0.0</td>\n",
              "      <td>0.0</td>\n",
              "      <td>0.0</td>\n",
              "      <td>0.0</td>\n",
              "      <td>0.0</td>\n",
              "      <td>0.0</td>\n",
              "      <td>0.0</td>\n",
              "      <td>0.0</td>\n",
              "      <td>0.0</td>\n",
              "      <td>0.0</td>\n",
              "      <td>0.0</td>\n",
              "      <td>0.0</td>\n",
              "      <td>0.0</td>\n",
              "      <td>0.0</td>\n",
              "      <td>0.0</td>\n",
              "      <td>0.0</td>\n",
              "      <td>0.0</td>\n",
              "      <td>0.0</td>\n",
              "      <td>0.0</td>\n",
              "      <td>0.0</td>\n",
              "      <td>0.0</td>\n",
              "      <td>0.0</td>\n",
              "      <td>0.0</td>\n",
              "      <td>0.0</td>\n",
              "      <td>0.0</td>\n",
              "      <td>0.0</td>\n",
              "      <td>...</td>\n",
              "      <td>0.0</td>\n",
              "      <td>0.0</td>\n",
              "      <td>0.0</td>\n",
              "      <td>0.0</td>\n",
              "      <td>0.0</td>\n",
              "      <td>0.0</td>\n",
              "      <td>0.0</td>\n",
              "      <td>0.0</td>\n",
              "      <td>0.0</td>\n",
              "      <td>0.0</td>\n",
              "      <td>0.0</td>\n",
              "      <td>0.0</td>\n",
              "      <td>0.0</td>\n",
              "      <td>0.0</td>\n",
              "      <td>0.0</td>\n",
              "      <td>1.0</td>\n",
              "      <td>0.0</td>\n",
              "      <td>0.0</td>\n",
              "      <td>0.0</td>\n",
              "      <td>0.0</td>\n",
              "      <td>0.0</td>\n",
              "      <td>0.0</td>\n",
              "      <td>0.0</td>\n",
              "      <td>0.0</td>\n",
              "      <td>0.0</td>\n",
              "      <td>0.0</td>\n",
              "      <td>0.0</td>\n",
              "      <td>0.0</td>\n",
              "      <td>0.0</td>\n",
              "      <td>0.0</td>\n",
              "      <td>0.0</td>\n",
              "      <td>0.0</td>\n",
              "      <td>0.0</td>\n",
              "      <td>0.0</td>\n",
              "      <td>0.0</td>\n",
              "      <td>0.0</td>\n",
              "      <td>0.0</td>\n",
              "      <td>0.0</td>\n",
              "      <td>0.0</td>\n",
              "      <td>0.0</td>\n",
              "    </tr>\n",
              "  </tbody>\n",
              "</table>\n",
              "<p>5 rows × 36561 columns</p>\n",
              "</div>"
            ],
            "text/plain": [
              "user_id             000e2c2a8c7870ff9121f212b35c8b3a20cc0e67  ...  fffea3d509760c984e7d40789804c0e5e289cc86\n",
              "song_id                                                       ...                                          \n",
              "SOAAAGQ12A8C1420C8                                       0.0  ...                                       0.0\n",
              "SOAACPJ12A81C21360                                       0.0  ...                                       0.0\n",
              "SOAACSG12AB018DC80                                       0.0  ...                                       0.0\n",
              "SOAAEJI12AB0188AB5                                       0.0  ...                                       0.0\n",
              "SOAAFAC12A67ADF7EB                                       0.0  ...                                       0.0\n",
              "\n",
              "[5 rows x 36561 columns]"
            ]
          },
          "metadata": {
            "tags": []
          },
          "execution_count": 20
        }
      ]
    },
    {
      "cell_type": "code",
      "metadata": {
        "id": "ZnQ_20Fnq78j"
      },
      "source": [
        "df_unique_songs = df_songs.drop_duplicates(subset=['song_id']).reset_index(drop=True)[['song_id', 'title']]"
      ],
      "execution_count": null,
      "outputs": []
    },
    {
      "cell_type": "code",
      "metadata": {
        "id": "_szyHG4Gq_6s"
      },
      "source": [
        "decode_id_song = {\n",
        "    song: i for i, song in \n",
        "    enumerate(list(df_unique_songs.set_index('song_id').loc[df_songs_features.index].title))\n",
        "}"
      ],
      "execution_count": null,
      "outputs": []
    },
    {
      "cell_type": "markdown",
      "metadata": {
        "id": "7yycVSTf_uM0"
      },
      "source": [
        "# KNN Model"
      ]
    },
    {
      "cell_type": "code",
      "metadata": {
        "id": "w0-6mL5X_qrQ",
        "outputId": "4341e735-d35a-47a4-945c-dd78756ada85",
        "colab": {
          "base_uri": "https://localhost:8080/"
        }
      },
      "source": [
        "from sklearn.neighbors import NearestNeighbors\n",
        "from fuzzywuzzy import fuzz\n",
        "import numpy as np                               #USING KNN ALGORITHM\n",
        "\n",
        "class Recommender:\n",
        "    def __init__(self, metric, algorithm, k, data, decode_id_song):\n",
        "        self.metric = metric\n",
        "        self.algorithm = algorithm\n",
        "        self.k = k\n",
        "        self.data = data\n",
        "        self.decode_id_song = decode_id_song\n",
        "        self.data = data\n",
        "        self.model = self._recommender().fit(data)\n",
        "    \n",
        "    def make_recommendation(self, new_song, n_recommendations):\n",
        "        recommended = self._recommend(new_song=new_song, n_recommendations=n_recommendations)\n",
        "        print(\"... Done\")\n",
        "        return recommended \n",
        "    \n",
        "    def _recommender(self):\n",
        "        return NearestNeighbors(metric=self.metric, algorithm=self.algorithm, n_neighbors=self.k, n_jobs=-1)\n",
        "    \n",
        "    def _recommend(self, new_song, n_recommendations):\n",
        "        # Get the id of the recommended songs\n",
        "        recommendations = []\n",
        "        recommendation_ids = self._get_recommendations(new_song=new_song, n_recommendations=n_recommendations)\n",
        "        # return the name of the song using a mapping dictionary\n",
        "        recommendations_map = self._map_indeces_to_song_title(recommendation_ids)\n",
        "        # Translate this recommendations into the ranking of song titles recommended\n",
        "        for i, (idx, dist) in enumerate(recommendation_ids):\n",
        "            recommendations.append(recommendations_map[idx])\n",
        "        return recommendations\n",
        "                 \n",
        "    def _get_recommendations(self, new_song, n_recommendations):\n",
        "        # Get the id of the song according to the text\n",
        "        recom_song_id = self._fuzzy_matching(song=new_song)\n",
        "        # Start the recommendation process\n",
        "        print(f\"Starting the recommendation process for {new_song} ...\")\n",
        "        # Return the n neighbors for the song id\n",
        "        distances, indices = self.model.kneighbors(self.data[recom_song_id], n_neighbors=n_recommendations+1)\n",
        "        return sorted(list(zip(indices.squeeze().tolist(), distances.squeeze().tolist())), key=lambda x: x[1])[:0:-1]\n",
        "    \n",
        "    def _map_indeces_to_song_title(self, recommendation_ids):\n",
        "        # get reverse mapper\n",
        "        return {song_id: song_title for song_title, song_id in self.decode_id_song.items()}\n",
        "    \n",
        "    def _fuzzy_matching(self, song):\n",
        "        match_tuple = []\n",
        "        # get match\n",
        "        for title, idx in self.decode_id_song.items():\n",
        "            ratio = fuzz.ratio(title.lower(), song.lower())\n",
        "            if ratio >= 60:\n",
        "                match_tuple.append((title, idx, ratio))\n",
        "        # sort\n",
        "        match_tuple = sorted(match_tuple, key=lambda x: x[2])[::-1]\n",
        "        if not match_tuple:\n",
        "            print(f\"The recommendation system could not find a match for {song}\")\n",
        "            return\n",
        "        return match_tuple[0][1]"
      ],
      "execution_count": null,
      "outputs": [
        {
          "output_type": "stream",
          "text": [
            "/usr/local/lib/python3.6/dist-packages/fuzzywuzzy/fuzz.py:11: UserWarning: Using slow pure-python SequenceMatcher. Install python-Levenshtein to remove this warning\n",
            "  warnings.warn('Using slow pure-python SequenceMatcher. Install python-Levenshtein to remove this warning')\n"
          ],
          "name": "stderr"
        }
      ]
    },
    {
      "cell_type": "markdown",
      "metadata": {
        "id": "augpZxQm_30z"
      },
      "source": [
        "#Recommendation"
      ]
    },
    {
      "cell_type": "code",
      "metadata": {
        "id": "aATk8BzwrDgz"
      },
      "source": [
        "# KNN model\n",
        "model = Recommender(metric='cosine', algorithm='brute', k=20, data=mat_songs_features, decode_id_song=decode_id_song)"
      ],
      "execution_count": null,
      "outputs": []
    },
    {
      "cell_type": "code",
      "metadata": {
        "id": "xjHQe_19rGoi"
      },
      "source": [
        "#input song\n",
        "song = 'Blow Up The Outside World'"
      ],
      "execution_count": null,
      "outputs": []
    },
    {
      "cell_type": "code",
      "metadata": {
        "id": "imaFC_hqrK6y",
        "outputId": "81c7fd38-2b65-4439-cf60-298fa5890d00",
        "colab": {
          "base_uri": "https://localhost:8080/"
        }
      },
      "source": [
        "#getting song recomendations\n",
        "new_recommendations = model.make_recommendation(new_song=song, n_recommendations=10)"
      ],
      "execution_count": null,
      "outputs": [
        {
          "output_type": "stream",
          "text": [
            "Starting the recommendation process for Blow Up The Outside World ...\n",
            "... Done\n"
          ],
          "name": "stdout"
        }
      ]
    },
    {
      "cell_type": "code",
      "metadata": {
        "id": "EC5oIDE8rQlh",
        "outputId": "7bc52a16-cbd8-46cf-d0ff-793a7abea8aa",
        "colab": {
          "base_uri": "https://localhost:8080/"
        }
      },
      "source": [
        "print(f\"Listener  who listens to  the song \\\" {song} \\\" also likes to listen  following songs :\")\n",
        "\n",
        "for i in new_recommendations:\n",
        "  print(i)"
      ],
      "execution_count": null,
      "outputs": [
        {
          "output_type": "stream",
          "text": [
            "Listener  who listens to  the song \" Blow Up The Outside World \" also likes to listen  following songs :\n",
            "Bittersweet Memories\n",
            "Flutter Girl\n",
            "Touch_ Peel And Stand\n",
            "Silvergun Superman (LP Version)\n",
            "Flower\n",
            "Lounge Fly (LP Version)\n",
            "Wasting My Time\n",
            "Unglued (LP Version)\n",
            "Sludge Factory\n",
            "It's Not What\n"
          ],
          "name": "stdout"
        }
      ]
    },
    {
      "cell_type": "markdown",
      "metadata": {
        "id": "oXAr3VSStGAy"
      },
      "source": [
        "# SVD"
      ]
    },
    {
      "cell_type": "code",
      "metadata": {
        "id": "-CbnT3ioxejt",
        "outputId": "9b3e4583-8038-4993-83e9-b248cb22723f",
        "colab": {
          "base_uri": "https://localhost:8080/"
        }
      },
      "source": [
        "!pip install surprise"
      ],
      "execution_count": null,
      "outputs": [
        {
          "output_type": "stream",
          "text": [
            "Collecting surprise\n",
            "  Downloading https://files.pythonhosted.org/packages/61/de/e5cba8682201fcf9c3719a6fdda95693468ed061945493dea2dd37c5618b/surprise-0.1-py2.py3-none-any.whl\n",
            "Collecting scikit-surprise\n",
            "\u001b[?25l  Downloading https://files.pythonhosted.org/packages/97/37/5d334adaf5ddd65da99fc65f6507e0e4599d092ba048f4302fe8775619e8/scikit-surprise-1.1.1.tar.gz (11.8MB)\n",
            "\u001b[K     |████████████████████████████████| 11.8MB 2.5MB/s \n",
            "\u001b[?25hRequirement already satisfied: joblib>=0.11 in /usr/local/lib/python3.6/dist-packages (from scikit-surprise->surprise) (0.17.0)\n",
            "Requirement already satisfied: numpy>=1.11.2 in /usr/local/lib/python3.6/dist-packages (from scikit-surprise->surprise) (1.18.5)\n",
            "Requirement already satisfied: scipy>=1.0.0 in /usr/local/lib/python3.6/dist-packages (from scikit-surprise->surprise) (1.4.1)\n",
            "Requirement already satisfied: six>=1.10.0 in /usr/local/lib/python3.6/dist-packages (from scikit-surprise->surprise) (1.15.0)\n",
            "Building wheels for collected packages: scikit-surprise\n",
            "  Building wheel for scikit-surprise (setup.py) ... \u001b[?25l\u001b[?25hdone\n",
            "  Created wheel for scikit-surprise: filename=scikit_surprise-1.1.1-cp36-cp36m-linux_x86_64.whl size=1670940 sha256=f560ae56ccc8e8c0ac1bb666d4864ea4ccec160b9d204dd502ad982b8949df7c\n",
            "  Stored in directory: /root/.cache/pip/wheels/78/9c/3d/41b419c9d2aff5b6e2b4c0fc8d25c538202834058f9ed110d0\n",
            "Successfully built scikit-surprise\n",
            "Installing collected packages: scikit-surprise, surprise\n",
            "Successfully installed scikit-surprise-1.1.1 surprise-0.1\n"
          ],
          "name": "stdout"
        }
      ]
    },
    {
      "cell_type": "code",
      "metadata": {
        "id": "OVyRMleCtHrG"
      },
      "source": [
        "from surprise import SVD\n",
        "from surprise import Dataset, Reader\n",
        "from surprise import accuracy\n",
        "from surprise.model_selection import train_test_split\n",
        "from surprise.model_selection import GridSearchCV\n",
        "from surprise.model_selection import cross_validate"
      ],
      "execution_count": null,
      "outputs": []
    },
    {
      "cell_type": "code",
      "metadata": {
        "id": "DP3G2INzxab2"
      },
      "source": [
        "# Get how many songs each user have listened to\n",
        "user_counts = df_songs.groupby('user_id')['song_id'].count()\n",
        "\n",
        "# Filter users which have listen to at least 16 songs\n",
        "user_ten_id = user_counts[user_counts > 16].index.to_list()"
      ],
      "execution_count": null,
      "outputs": []
    },
    {
      "cell_type": "code",
      "metadata": {
        "id": "tgKQgfVE8Nvz"
      },
      "source": [
        ""
      ],
      "execution_count": null,
      "outputs": []
    },
    {
      "cell_type": "code",
      "metadata": {
        "id": "-q8woNpCyAmv"
      },
      "source": [
        "# Filtered the dataset to keep only those users with more than 16 listened\n",
        "df_song_reduced = df_songs[(df_songs['user_id'].isin(user_ten_id)) & (df_songs['song_id'].isin(song_ten_id))].reset_index(drop=True)"
      ],
      "execution_count": null,
      "outputs": []
    },
    {
      "cell_type": "code",
      "metadata": {
        "id": "PK2Z9fbgyEuH"
      },
      "source": [
        "bins = [0, 1, 2, 3, 4, 5, 6, 7, 8, 9, 10]"
      ],
      "execution_count": null,
      "outputs": []
    },
    {
      "cell_type": "code",
      "metadata": {
        "id": "1YARhxibyaD3"
      },
      "source": [
        "df_song_reduced['listen_count'] = pd.cut(df_song_reduced['listen_count'], bins=bins, labels=[1, 2, 3, 4, 5, 6, 7, 8, 9, 10])"
      ],
      "execution_count": null,
      "outputs": []
    },
    {
      "cell_type": "code",
      "metadata": {
        "id": "46rYtSNhzNP3"
      },
      "source": [
        "listen_counts = pd.DataFrame(df_song_reduced.groupby('listen_count').size(), columns=['count']).reset_index(drop=False)"
      ],
      "execution_count": null,
      "outputs": []
    },
    {
      "cell_type": "code",
      "metadata": {
        "id": "Dj5ehZZxzTkX"
      },
      "source": [
        "reader = Reader(rating_scale=(1, 10))\n",
        "data = Dataset.load_from_df(df_song_reduced[['user_id', 'song_id', 'listen_count']], reader)"
      ],
      "execution_count": null,
      "outputs": []
    },
    {
      "cell_type": "code",
      "metadata": {
        "id": "3h0MYbHszweV"
      },
      "source": [
        "\n",
        "trainset, testset = train_test_split(data, test_size=.25)"
      ],
      "execution_count": null,
      "outputs": []
    },
    {
      "cell_type": "code",
      "metadata": {
        "id": "NwNDklSMz0Oi"
      },
      "source": [
        "param_grid = {'n_factors': [100,160], \n",
        "              'n_epochs': [50,100], \n",
        "              'lr_all': [0.001, 0.005],\n",
        "              'reg_all': [0.08, 0.1]}"
      ],
      "execution_count": null,
      "outputs": []
    },
    {
      "cell_type": "code",
      "metadata": {
        "id": "xbZijZv1z61s"
      },
      "source": [
        "grid_search_svd = GridSearchCV(SVD, param_grid, measures=['rmse'], cv=3, joblib_verbose=4, n_jobs=2)"
      ],
      "execution_count": null,
      "outputs": []
    },
    {
      "cell_type": "code",
      "metadata": {
        "id": "3RUp_Nh9z_5H",
        "outputId": "a03ba8f3-032c-4a50-9194-c87358d65678",
        "colab": {
          "base_uri": "https://localhost:8080/"
        }
      },
      "source": [
        "\n",
        "# find the best parameters for the model\n",
        "grid_search_svd.fit(data)\n",
        "find_algo = grid_search_svd.best_estimator['rmse']\n",
        "print(grid_search_svd.best_score['rmse'])\n",
        "print(grid_search_svd.best_params['rmse'])"
      ],
      "execution_count": null,
      "outputs": [
        {
          "output_type": "stream",
          "text": [
            "[Parallel(n_jobs=-2)]: Using backend SequentialBackend with 1 concurrent workers.\n",
            "[Parallel(n_jobs=-2)]: Done   1 out of   1 | elapsed:  4.8min remaining:    0.0s\n",
            "[Parallel(n_jobs=-2)]: Done   2 out of   2 | elapsed:  9.5min remaining:    0.0s\n",
            "[Parallel(n_jobs=-2)]: Done   3 out of   3 | elapsed: 14.2min remaining:    0.0s\n"
          ],
          "name": "stderr"
        },
        {
          "output_type": "stream",
          "text": [
            "2.1996067129903523\n",
            "{'n_factors': 160, 'n_epochs': 100, 'lr_all': 0.005, 'reg_all': 0.1}\n"
          ],
          "name": "stdout"
        },
        {
          "output_type": "stream",
          "text": [
            "[Parallel(n_jobs=-2)]: Done  12 out of  12 | elapsed: 56.7min finished\n"
          ],
          "name": "stderr"
        }
      ]
    },
    {
      "cell_type": "code",
      "metadata": {
        "id": "BRIhztjb0DBp",
        "outputId": "130ba446-043c-42e6-eb99-6eb7b708c3be",
        "colab": {
          "base_uri": "https://localhost:8080/"
        }
      },
      "source": [
        "# Perform the cross validation\n",
        "cross_validate(find_algo, data, measures=['RMSE'], cv=5, verbose=True)"
      ],
      "execution_count": null,
      "outputs": [
        {
          "output_type": "stream",
          "text": [
            "Evaluating RMSE of algorithm SVD on 5 split(s).\n",
            "\n",
            "                  Fold 1  Fold 2  Fold 3  Fold 4  Fold 5  Mean    Std     \n",
            "RMSE (testset)    2.1658  2.1810  2.1772  2.1799  2.1698  2.1748  0.0059  \n",
            "Fit time          334.37  335.66  333.85  335.12  337.70  335.34  1.33    \n",
            "Test time         3.10    1.62    3.13    1.68    1.64    2.23    0.72    \n"
          ],
          "name": "stdout"
        },
        {
          "output_type": "execute_result",
          "data": {
            "text/plain": [
              "{'fit_time': (334.3688313961029,\n",
              "  335.6623156070709,\n",
              "  333.85424637794495,\n",
              "  335.1211287975311,\n",
              "  337.70438146591187),\n",
              " 'test_rmse': array([2.1658137 , 2.181025  , 2.17724714, 2.17990627, 2.16981538]),\n",
              " 'test_time': (3.1031596660614014,\n",
              "  1.616166353225708,\n",
              "  3.128204584121704,\n",
              "  1.679558277130127,\n",
              "  1.6394603252410889)}"
            ]
          },
          "metadata": {
            "tags": []
          },
          "execution_count": 46
        }
      ]
    },
    {
      "cell_type": "code",
      "metadata": {
        "id": "UOxy8LWCCKhe",
        "outputId": "de071aec-cf2c-40b8-c83b-28f81928eb11",
        "colab": {
          "base_uri": "https://localhost:8080/"
        }
      },
      "source": [
        "final_algorithm = SVD(n_factors=160, n_epochs=100, lr_all=0.005, reg_all=0.1)\n",
        "final_algorithm.fit(trainset)\n",
        "test_predictions = final_algorithm.test(testset)\n",
        "print(f\"The RMSE is {accuracy.rmse(test_predictions, verbose=True)}\")"
      ],
      "execution_count": null,
      "outputs": [
        {
          "output_type": "stream",
          "text": [
            "RMSE: 2.1837\n",
            "The RMSE is 2.1836526275536956\n"
          ],
          "name": "stdout"
        }
      ]
    },
    {
      "cell_type": "code",
      "metadata": {
        "id": "lK8r_6S7Jss5"
      },
      "source": [
        ""
      ],
      "execution_count": null,
      "outputs": []
    }
  ]
}